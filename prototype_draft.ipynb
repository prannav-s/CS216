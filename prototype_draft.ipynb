{
 "cells": [
  {
   "cell_type": "code",
   "execution_count": 1,
   "id": "7cd0b5c4",
   "metadata": {},
   "outputs": [
    {
     "name": "stdout",
     "output_type": "stream",
     "text": [
      "Requirement already satisfied: textblob in c:\\users\\etesh\\anaconda3\\lib\\site-packages (0.17.1)\n",
      "Requirement already satisfied: nltk>=3.1 in c:\\users\\etesh\\anaconda3\\lib\\site-packages (from textblob) (3.7)\n",
      "Requirement already satisfied: joblib in c:\\users\\etesh\\anaconda3\\lib\\site-packages (from nltk>=3.1->textblob) (1.1.0)\n",
      "Requirement already satisfied: regex>=2021.8.3 in c:\\users\\etesh\\anaconda3\\lib\\site-packages (from nltk>=3.1->textblob) (2022.7.9)\n",
      "Requirement already satisfied: click in c:\\users\\etesh\\anaconda3\\lib\\site-packages (from nltk>=3.1->textblob) (8.0.4)\n",
      "Requirement already satisfied: tqdm in c:\\users\\etesh\\anaconda3\\lib\\site-packages (from nltk>=3.1->textblob) (4.64.1)\n",
      "Requirement already satisfied: colorama in c:\\users\\etesh\\anaconda3\\lib\\site-packages (from click->nltk>=3.1->textblob) (0.4.5)\n"
     ]
    }
   ],
   "source": [
    "import sqlite3\n",
    "import pandas as pd\n",
    "import numpy as np\n",
    "import seaborn as sns\n",
    "if ('0.11' in sns.__version__) or ('0.12' in sns.__version__):\n",
    "    sns.set_theme()\n",
    "else:\n",
    "    sns.set()\n",
    "import sys\n",
    "!{sys.executable} -m pip install textblob\n",
    "import textblob"
   ]
  },
  {
   "cell_type": "code",
   "execution_count": null,
   "id": "58acff51",
   "metadata": {},
   "outputs": [],
   "source": []
  },
  {
   "cell_type": "code",
   "execution_count": 2,
   "id": "df6fd988",
   "metadata": {},
   "outputs": [
    {
     "data": {
      "text/html": [
       "<div>\n",
       "<style scoped>\n",
       "    .dataframe tbody tr th:only-of-type {\n",
       "        vertical-align: middle;\n",
       "    }\n",
       "\n",
       "    .dataframe tbody tr th {\n",
       "        vertical-align: top;\n",
       "    }\n",
       "\n",
       "    .dataframe thead th {\n",
       "        text-align: right;\n",
       "    }\n",
       "</style>\n",
       "<table border=\"1\" class=\"dataframe\">\n",
       "  <thead>\n",
       "    <tr style=\"text-align: right;\">\n",
       "      <th></th>\n",
       "      <th>textID</th>\n",
       "      <th>text</th>\n",
       "      <th>selected_text</th>\n",
       "      <th>sentiment</th>\n",
       "    </tr>\n",
       "  </thead>\n",
       "  <tbody>\n",
       "    <tr>\n",
       "      <th>0</th>\n",
       "      <td>cb774db0d1</td>\n",
       "      <td>I`d have responded, if I were going</td>\n",
       "      <td>I`d have responded, if I were going</td>\n",
       "      <td>neutral</td>\n",
       "    </tr>\n",
       "    <tr>\n",
       "      <th>1</th>\n",
       "      <td>549e992a42</td>\n",
       "      <td>Sooo SAD I will miss you here in San Diego!!!</td>\n",
       "      <td>Sooo SAD</td>\n",
       "      <td>negative</td>\n",
       "    </tr>\n",
       "    <tr>\n",
       "      <th>2</th>\n",
       "      <td>088c60f138</td>\n",
       "      <td>my boss is bullying me...</td>\n",
       "      <td>bullying me</td>\n",
       "      <td>negative</td>\n",
       "    </tr>\n",
       "    <tr>\n",
       "      <th>3</th>\n",
       "      <td>9642c003ef</td>\n",
       "      <td>what interview! leave me alone</td>\n",
       "      <td>leave me alone</td>\n",
       "      <td>negative</td>\n",
       "    </tr>\n",
       "    <tr>\n",
       "      <th>4</th>\n",
       "      <td>358bd9e861</td>\n",
       "      <td>Sons of ****, why couldn`t they put them on t...</td>\n",
       "      <td>Sons of ****,</td>\n",
       "      <td>negative</td>\n",
       "    </tr>\n",
       "  </tbody>\n",
       "</table>\n",
       "</div>"
      ],
      "text/plain": [
       "       textID                                               text  \\\n",
       "0  cb774db0d1                I`d have responded, if I were going   \n",
       "1  549e992a42      Sooo SAD I will miss you here in San Diego!!!   \n",
       "2  088c60f138                          my boss is bullying me...   \n",
       "3  9642c003ef                     what interview! leave me alone   \n",
       "4  358bd9e861   Sons of ****, why couldn`t they put them on t...   \n",
       "\n",
       "                         selected_text sentiment  \n",
       "0  I`d have responded, if I were going   neutral  \n",
       "1                             Sooo SAD  negative  \n",
       "2                          bullying me  negative  \n",
       "3                       leave me alone  negative  \n",
       "4                        Sons of ****,  negative  "
      ]
     },
     "execution_count": 2,
     "metadata": {},
     "output_type": "execute_result"
    }
   ],
   "source": [
    "#https://www.kaggle.com/datasets/yasserh/twitter-tweets-sentiment-dataset\n",
    "tweets = pd.read_csv(\"Tweets.csv\")\n",
    "tweets.head()"
   ]
  },
  {
   "cell_type": "code",
   "execution_count": 3,
   "id": "afb92735",
   "metadata": {},
   "outputs": [
    {
     "name": "stdout",
     "output_type": "stream",
     "text": [
      "(31, 9)\n"
     ]
    }
   ],
   "source": [
    "#https://www.ncei.noaa.gov/cdo-web/datasets\n",
    "climate = pd.read_csv(\"GHCND_sample_csv.csv\")\n",
    "print(climate.shape)"
   ]
  },
  {
   "cell_type": "code",
   "execution_count": null,
   "id": "3e80aaf7",
   "metadata": {},
   "outputs": [],
   "source": []
  },
  {
   "cell_type": "code",
   "execution_count": 4,
   "id": "88e8027f",
   "metadata": {},
   "outputs": [
    {
     "data": {
      "text/html": [
       "<div>\n",
       "<style scoped>\n",
       "    .dataframe tbody tr th:only-of-type {\n",
       "        vertical-align: middle;\n",
       "    }\n",
       "\n",
       "    .dataframe tbody tr th {\n",
       "        vertical-align: top;\n",
       "    }\n",
       "\n",
       "    .dataframe thead th {\n",
       "        text-align: right;\n",
       "    }\n",
       "</style>\n",
       "<table border=\"1\" class=\"dataframe\">\n",
       "  <thead>\n",
       "    <tr style=\"text-align: right;\">\n",
       "      <th></th>\n",
       "      <th>UserID</th>\n",
       "      <th>UserLocation</th>\n",
       "    </tr>\n",
       "  </thead>\n",
       "  <tbody>\n",
       "    <tr>\n",
       "      <th>0</th>\n",
       "      <td>14</td>\n",
       "      <td>San Francisco</td>\n",
       "    </tr>\n",
       "    <tr>\n",
       "      <th>1</th>\n",
       "      <td>15</td>\n",
       "      <td>San Francisco</td>\n",
       "    </tr>\n",
       "    <tr>\n",
       "      <th>2</th>\n",
       "      <td>18</td>\n",
       "      <td>San Francisco, CA</td>\n",
       "    </tr>\n",
       "    <tr>\n",
       "      <th>3</th>\n",
       "      <td>19922973</td>\n",
       "      <td>Chicago, IL</td>\n",
       "    </tr>\n",
       "    <tr>\n",
       "      <th>4</th>\n",
       "      <td>63963170</td>\n",
       "      <td>New York</td>\n",
       "    </tr>\n",
       "  </tbody>\n",
       "</table>\n",
       "</div>"
      ],
      "text/plain": [
       "     UserID       UserLocation\n",
       "0        14      San Francisco\n",
       "1        15      San Francisco\n",
       "2        18  San Francisco, CA\n",
       "3  19922973        Chicago, IL\n",
       "4  63963170           New York"
      ]
     },
     "execution_count": 4,
     "metadata": {},
     "output_type": "execute_result"
    }
   ],
   "source": [
    "#https://ia600501.us.archive.org/view_archive.php?archive=/32/items/twitter_cikm_2010/twitter_cikm_2010.zip&file=training_set_users.txt\n",
    "training_users = pd.read_csv(\"training_set_users.txt\", sep=\"\\t\", header=None, names=[\"UserID\",\"UserLocation\"])\n",
    "training_users.head()\n"
   ]
  },
  {
   "cell_type": "code",
   "execution_count": 15,
   "id": "1f442d19",
   "metadata": {
    "scrolled": true
   },
   "outputs": [
    {
     "name": "stdout",
     "output_type": "stream",
     "text": [
      "(864, 4)\n",
      "(3876, 4)\n"
     ]
    }
   ],
   "source": [
    "#https://ia600501.us.archive.org/view_archive.php?archive=/32/items/twitter_cikm_2010/twitter_cikm_2010.zip&file=training_set_tweets.txt\n",
    "training_tweets = pd.read_csv(\"training_set_tweets.txt\", sep=\"\\t\", header=None, names=[\"UserID\",\"TweetID\",\"Tweet\",\"CreatedAt\"])\n",
    "training_tweets = training_tweets[training_tweets[\"UserID\"].str.isnumeric() == True]\n",
    "training_tweets[\"UserID\"] = training_tweets[\"UserID\"].astype(\"int\")\n",
    "print(training_tweets.shape)\n",
    "\n",
    "training_tweets_1 = pd.read_csv(\"training_set_tweets_1.txt\", sep=\"\\t\", header=None, names=[\"UserID\",\"TweetID\",\"Tweet\",\"CreatedAt\"])\n",
    "training_tweets_1 = training_tweets_1[training_tweets_1[\"UserID\"].str.isnumeric() == True]\n",
    "training_tweets_1[\"UserID\"] = training_tweets_1[\"UserID\"].astype(\"int\")\n",
    "print(training_tweets_1.shape)"
   ]
  },
  {
   "cell_type": "code",
   "execution_count": 16,
   "id": "5f69ede6",
   "metadata": {
    "scrolled": false
   },
   "outputs": [
    {
     "data": {
      "text/html": [
       "<div>\n",
       "<style scoped>\n",
       "    .dataframe tbody tr th:only-of-type {\n",
       "        vertical-align: middle;\n",
       "    }\n",
       "\n",
       "    .dataframe tbody tr th {\n",
       "        vertical-align: top;\n",
       "    }\n",
       "\n",
       "    .dataframe thead th {\n",
       "        text-align: right;\n",
       "    }\n",
       "</style>\n",
       "<table border=\"1\" class=\"dataframe\">\n",
       "  <thead>\n",
       "    <tr style=\"text-align: right;\">\n",
       "      <th></th>\n",
       "      <th>CO2 Mean</th>\n",
       "      <th>NO2 AM Mean</th>\n",
       "      <th>NO2 1-hr Mean</th>\n",
       "      <th>SO2 Mean</th>\n",
       "    </tr>\n",
       "    <tr>\n",
       "      <th>City</th>\n",
       "      <th></th>\n",
       "      <th></th>\n",
       "      <th></th>\n",
       "      <th></th>\n",
       "    </tr>\n",
       "  </thead>\n",
       "  <tbody>\n",
       "    <tr>\n",
       "      <th>Aberdeen</th>\n",
       "      <td>NaN</td>\n",
       "      <td>NaN</td>\n",
       "      <td>NaN</td>\n",
       "      <td>NaN</td>\n",
       "    </tr>\n",
       "    <tr>\n",
       "      <th>Adjuntas</th>\n",
       "      <td>NaN</td>\n",
       "      <td>NaN</td>\n",
       "      <td>NaN</td>\n",
       "      <td>NaN</td>\n",
       "    </tr>\n",
       "    <tr>\n",
       "      <th>Adrian</th>\n",
       "      <td>NaN</td>\n",
       "      <td>NaN</td>\n",
       "      <td>NaN</td>\n",
       "      <td>NaN</td>\n",
       "    </tr>\n",
       "    <tr>\n",
       "      <th>Aguadilla-Isabela</th>\n",
       "      <td>NaN</td>\n",
       "      <td>NaN</td>\n",
       "      <td>NaN</td>\n",
       "      <td>NaN</td>\n",
       "    </tr>\n",
       "    <tr>\n",
       "      <th>Akron</th>\n",
       "      <td>NaN</td>\n",
       "      <td>NaN</td>\n",
       "      <td>NaN</td>\n",
       "      <td>5.0</td>\n",
       "    </tr>\n",
       "    <tr>\n",
       "      <th>...</th>\n",
       "      <td>...</td>\n",
       "      <td>...</td>\n",
       "      <td>...</td>\n",
       "      <td>...</td>\n",
       "    </tr>\n",
       "    <tr>\n",
       "      <th>Yakima</th>\n",
       "      <td>NaN</td>\n",
       "      <td>NaN</td>\n",
       "      <td>NaN</td>\n",
       "      <td>NaN</td>\n",
       "    </tr>\n",
       "    <tr>\n",
       "      <th>York-Hanover</th>\n",
       "      <td>NaN</td>\n",
       "      <td>8.0</td>\n",
       "      <td>40.0</td>\n",
       "      <td>15.0</td>\n",
       "    </tr>\n",
       "    <tr>\n",
       "      <th>Youngstown-Warren-Boardman</th>\n",
       "      <td>NaN</td>\n",
       "      <td>NaN</td>\n",
       "      <td>NaN</td>\n",
       "      <td>NaN</td>\n",
       "    </tr>\n",
       "    <tr>\n",
       "      <th>Yuba City</th>\n",
       "      <td>NaN</td>\n",
       "      <td>5.0</td>\n",
       "      <td>34.0</td>\n",
       "      <td>NaN</td>\n",
       "    </tr>\n",
       "    <tr>\n",
       "      <th>Yuma</th>\n",
       "      <td>NaN</td>\n",
       "      <td>NaN</td>\n",
       "      <td>NaN</td>\n",
       "      <td>NaN</td>\n",
       "    </tr>\n",
       "  </tbody>\n",
       "</table>\n",
       "<p>549 rows × 4 columns</p>\n",
       "</div>"
      ],
      "text/plain": [
       "                            CO2 Mean  NO2 AM Mean  NO2 1-hr Mean  SO2 Mean\n",
       "City                                                                      \n",
       "Aberdeen                         NaN          NaN            NaN       NaN\n",
       "Adjuntas                         NaN          NaN            NaN       NaN\n",
       "Adrian                           NaN          NaN            NaN       NaN\n",
       "Aguadilla-Isabela                NaN          NaN            NaN       NaN\n",
       "Akron                            NaN          NaN            NaN       5.0\n",
       "...                              ...          ...            ...       ...\n",
       "Yakima                           NaN          NaN            NaN       NaN\n",
       "York-Hanover                     NaN          8.0           40.0      15.0\n",
       "Youngstown-Warren-Boardman       NaN          NaN            NaN       NaN\n",
       "Yuba City                        NaN          5.0           34.0       NaN\n",
       "Yuma                             NaN          NaN            NaN       NaN\n",
       "\n",
       "[549 rows x 4 columns]"
      ]
     },
     "execution_count": 16,
     "metadata": {},
     "output_type": "execute_result"
    }
   ],
   "source": [
    "t_user_tweets = training_users.merge(training_tweets_1, on=\"UserID\", how=\"left\")\n",
    "\n",
    "pol = pd.read_excel(\"cbsafactbook2021.xlsx\", header=2)[:579][[\"Core Based Statistical Area (CBSA)\", \"2010 Population\", \"CO           8-hr (ppm)\", \"NO2      AM (ppb)\", \"NO2          1-hr (ppb)\", \"SO2         1-hr (ppb)\"]]\n",
    "pol = pol.rename(columns={'Core Based Statistical Area (CBSA)': 'City, State', 'CO           8-hr (ppm)': 'CO2 Mean', \"NO2      AM (ppb)\":\"NO2 AM Mean\", \"NO2          1-hr (ppb)\":\"NO2 1-hr Mean\",\"SO2         1-hr (ppb)\": \"SO2 Mean\"})\n",
    "pol = pol.replace(\"ND\", np.nan)\n",
    "pol = pol.replace(\"IN\", np.nan)\n",
    "city = r'^([^,]*)'\n",
    "state = r',\\s*([^,]*)'\n",
    "pol[\"City\"] = pol[\"City, State\"].str.extract(city)\n",
    "pol[\"State\"] = pol[\"City, State\"].str.extract(state)\n",
    "pol = pol.groupby(\"City\")[[\"CO2 Mean\", \"NO2 AM Mean\", \"NO2 1-hr Mean\", \"SO2 Mean\"]].mean()\n",
    "pol\n",
    "#pol = pd.read_csv(\"uspollution_pollution_us_2000_2016.csv\", usecols = [\"City\", \"Date Local\", \"NO2 Mean\", \"SO2 Mean\", \"CO Mean\"])\n",
    "#pol = pol[pol[\"Date Local\"].str.contains(\"2016\")]\n",
    "#t_user_tweets.head()\n",
    "#pol = pol.groupby(\"City\")[[\"NO2 Mean\", \"SO2 Mean\", \"CO Mean\"]].mean()\n",
    "#print(pol)"
   ]
  },
  {
   "cell_type": "code",
   "execution_count": 18,
   "id": "2d6cc81d",
   "metadata": {},
   "outputs": [
    {
     "name": "stdout",
     "output_type": "stream",
     "text": [
      "(4293, 8)\n"
     ]
    },
    {
     "data": {
      "text/html": [
       "<div>\n",
       "<style scoped>\n",
       "    .dataframe tbody tr th:only-of-type {\n",
       "        vertical-align: middle;\n",
       "    }\n",
       "\n",
       "    .dataframe tbody tr th {\n",
       "        vertical-align: top;\n",
       "    }\n",
       "\n",
       "    .dataframe thead th {\n",
       "        text-align: right;\n",
       "    }\n",
       "</style>\n",
       "<table border=\"1\" class=\"dataframe\">\n",
       "  <thead>\n",
       "    <tr style=\"text-align: right;\">\n",
       "      <th></th>\n",
       "      <th>UserID</th>\n",
       "      <th>UserLocation</th>\n",
       "      <th>TweetID</th>\n",
       "      <th>Tweet</th>\n",
       "      <th>CreatedAt</th>\n",
       "      <th>Sentiment</th>\n",
       "      <th>City</th>\n",
       "      <th>State</th>\n",
       "      <th>CO2 Mean</th>\n",
       "      <th>NO2 AM Mean</th>\n",
       "      <th>NO2 1-hr Mean</th>\n",
       "      <th>SO2 Mean</th>\n",
       "    </tr>\n",
       "  </thead>\n",
       "  <tbody>\n",
       "    <tr>\n",
       "      <th>0</th>\n",
       "      <td>14</td>\n",
       "      <td>San Francisco</td>\n",
       "      <td>1567978127</td>\n",
       "      <td>The flock of bees splatter the windshield like...</td>\n",
       "      <td>2009-04-20 14:09:20</td>\n",
       "      <td>0.000000</td>\n",
       "      <td>San Francisco</td>\n",
       "      <td>NaN</td>\n",
       "      <td>NaN</td>\n",
       "      <td>NaN</td>\n",
       "      <td>NaN</td>\n",
       "      <td>NaN</td>\n",
       "    </tr>\n",
       "    <tr>\n",
       "      <th>1</th>\n",
       "      <td>14</td>\n",
       "      <td>San Francisco</td>\n",
       "      <td>1551907112</td>\n",
       "      <td>Watching him on TV, I wondered how I became so...</td>\n",
       "      <td>2009-04-18 12:16:56</td>\n",
       "      <td>0.000000</td>\n",
       "      <td>San Francisco</td>\n",
       "      <td>NaN</td>\n",
       "      <td>NaN</td>\n",
       "      <td>NaN</td>\n",
       "      <td>NaN</td>\n",
       "      <td>NaN</td>\n",
       "    </tr>\n",
       "    <tr>\n",
       "      <th>2</th>\n",
       "      <td>14</td>\n",
       "      <td>San Francisco</td>\n",
       "      <td>1539281043</td>\n",
       "      <td>My inner dirthead child limps a  smile at the ...</td>\n",
       "      <td>2009-04-16 22:30:57</td>\n",
       "      <td>0.008333</td>\n",
       "      <td>San Francisco</td>\n",
       "      <td>NaN</td>\n",
       "      <td>NaN</td>\n",
       "      <td>NaN</td>\n",
       "      <td>NaN</td>\n",
       "      <td>NaN</td>\n",
       "    </tr>\n",
       "    <tr>\n",
       "      <th>3</th>\n",
       "      <td>14</td>\n",
       "      <td>San Francisco</td>\n",
       "      <td>1513711531</td>\n",
       "      <td>Riding this blue steel dog Down thru the atmos...</td>\n",
       "      <td>2009-04-13 21:14:58</td>\n",
       "      <td>0.073611</td>\n",
       "      <td>San Francisco</td>\n",
       "      <td>NaN</td>\n",
       "      <td>NaN</td>\n",
       "      <td>NaN</td>\n",
       "      <td>NaN</td>\n",
       "      <td>NaN</td>\n",
       "    </tr>\n",
       "    <tr>\n",
       "      <th>4</th>\n",
       "      <td>14</td>\n",
       "      <td>San Francisco</td>\n",
       "      <td>1455281562</td>\n",
       "      <td>Driving this blue steel dog, pregnant and lumb...</td>\n",
       "      <td>2009-04-04 22:48:26</td>\n",
       "      <td>0.166667</td>\n",
       "      <td>San Francisco</td>\n",
       "      <td>NaN</td>\n",
       "      <td>NaN</td>\n",
       "      <td>NaN</td>\n",
       "      <td>NaN</td>\n",
       "      <td>NaN</td>\n",
       "    </tr>\n",
       "  </tbody>\n",
       "</table>\n",
       "</div>"
      ],
      "text/plain": [
       "   UserID   UserLocation     TweetID  \\\n",
       "0      14  San Francisco  1567978127   \n",
       "1      14  San Francisco  1551907112   \n",
       "2      14  San Francisco  1539281043   \n",
       "3      14  San Francisco  1513711531   \n",
       "4      14  San Francisco  1455281562   \n",
       "\n",
       "                                               Tweet            CreatedAt  \\\n",
       "0  The flock of bees splatter the windshield like...  2009-04-20 14:09:20   \n",
       "1  Watching him on TV, I wondered how I became so...  2009-04-18 12:16:56   \n",
       "2  My inner dirthead child limps a  smile at the ...  2009-04-16 22:30:57   \n",
       "3  Riding this blue steel dog Down thru the atmos...  2009-04-13 21:14:58   \n",
       "4  Driving this blue steel dog, pregnant and lumb...  2009-04-04 22:48:26   \n",
       "\n",
       "   Sentiment           City State  CO2 Mean  NO2 AM Mean  NO2 1-hr Mean  \\\n",
       "0   0.000000  San Francisco   NaN       NaN          NaN            NaN   \n",
       "1   0.000000  San Francisco   NaN       NaN          NaN            NaN   \n",
       "2   0.008333  San Francisco   NaN       NaN          NaN            NaN   \n",
       "3   0.073611  San Francisco   NaN       NaN          NaN            NaN   \n",
       "4   0.166667  San Francisco   NaN       NaN          NaN            NaN   \n",
       "\n",
       "   SO2 Mean  \n",
       "0       NaN  \n",
       "1       NaN  \n",
       "2       NaN  \n",
       "3       NaN  \n",
       "4       NaN  "
      ]
     },
     "execution_count": 18,
     "metadata": {},
     "output_type": "execute_result"
    }
   ],
   "source": [
    "t_user_tweets[\"Sentiment\"] = t_user_tweets[\"Tweet\"].astype(str).apply(lambda tweet: textblob.TextBlob(tweet).sentiment.polarity)\n",
    "city = r'^([^,]*)'\n",
    "state = r',\\s*([^,]*)'\n",
    "t_user_tweets[\"City\"] = t_user_tweets[\"UserLocation\"].str.extract(city)\n",
    "t_user_tweets[\"State\"] = t_user_tweets[\"UserLocation\"].str.extract(state)\n",
    "print(t_user_tweets.shape)\n",
    "t_user_tweets.dropna(subset=['Tweet'], inplace=True)\n",
    "tweets = pd.merge(t_user_tweets, pol, on = \"City\", how = \"left\")\n",
    "tweets.head()"
   ]
  },
  {
   "cell_type": "code",
   "execution_count": 23,
   "id": "5ded33fa",
   "metadata": {
    "scrolled": true
   },
   "outputs": [],
   "source": [
    "import matplotlib.pyplot as plt\n",
    "plot = tweets.groupby(\"City\")[[\"Sentiment\", \"SO2 Mean\"]].mean().sort_values(\"SO2 Mean\")\n"
   ]
  },
  {
   "cell_type": "code",
   "execution_count": 26,
   "id": "1eecb515",
   "metadata": {},
   "outputs": [
    {
     "data": {
      "image/png": "[encoded data removed]",
      "text/plain": [
       "<Figure size 500x500 with 1 Axes>"
      ]
     },
     "metadata": {},
     "output_type": "display_data"
    }
   ],
   "source": [
    "sns.relplot(x = \"SO2 Mean\", y = \"Sentiment\", data = plot, kind = \"line\")\n",
    "plt.show()"
   ]
  },
  {
   "cell_type": "code",
   "execution_count": 29,
   "id": "a26dfc30",
   "metadata": {},
   "outputs": [
    {
     "data": {
      "image/png": "[encoded data removed]",
      "text/plain": [
       "<Figure size 5000x500 with 1 Axes>"
      ]
     },
     "metadata": {},
     "output_type": "display_data"
    }
   ],
   "source": [
    "plot1 = tweets.groupby(\"City\", as_index=False)[[\"Sentiment\", \"SO2 Mean\"]].mean().sort_values(\"SO2 Mean\")\n",
    "sns.catplot(x=\"City\", y = \"Sentiment\", data = plot1, kind = \"bar\", \n",
    "            color=\"gray\", aspect=10)\n",
    "plt.show()"
   ]
  }
 ],
 "metadata": {
  "kernelspec": {
   "display_name": "Python 3 (ipykernel)",
   "language": "python",
   "name": "python3"
  },
  "language_info": {
   "codemirror_mode": {
    "name": "ipython",
    "version": 3
   },
   "file_extension": ".py",
   "mimetype": "text/x-python",
   "name": "python",
   "nbconvert_exporter": "python",
   "pygments_lexer": "ipython3",
   "version": "3.9.13"
  }
 },
 "nbformat": 4,
 "nbformat_minor": 5
}
