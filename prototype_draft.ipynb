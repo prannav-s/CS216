{
 "cells": [
  {
   "cell_type": "code",
   "execution_count": 1,
   "id": "7cd0b5c4",
   "metadata": {},
   "outputs": [
    {
     "name": "stdout",
     "output_type": "stream",
     "text": [
      "Requirement already satisfied: textblob in /Users/prannavshankar/opt/anaconda3/lib/python3.9/site-packages (0.17.1)\r\n",
      "Requirement already satisfied: nltk>=3.1 in /Users/prannavshankar/opt/anaconda3/lib/python3.9/site-packages (from textblob) (3.7)\r\n",
      "Requirement already satisfied: click in /Users/prannavshankar/opt/anaconda3/lib/python3.9/site-packages (from nltk>=3.1->textblob) (8.0.4)\r\n",
      "Requirement already satisfied: regex>=2021.8.3 in /Users/prannavshankar/opt/anaconda3/lib/python3.9/site-packages (from nltk>=3.1->textblob) (2022.7.9)\r\n",
      "Requirement already satisfied: joblib in /Users/prannavshankar/opt/anaconda3/lib/python3.9/site-packages (from nltk>=3.1->textblob) (1.1.0)\r\n",
      "Requirement already satisfied: tqdm in /Users/prannavshankar/opt/anaconda3/lib/python3.9/site-packages (from nltk>=3.1->textblob) (4.64.1)\r\n"
     ]
    }
   ],
   "source": [
    "import sqlite3\n",
    "import pandas as pd\n",
    "import numpy as np\n",
    "import seaborn as sns\n",
    "if ('0.11' in sns.__version__) or ('0.12' in sns.__version__):\n",
    "    sns.set_theme()\n",
    "else:\n",
    "    sns.set()\n",
    "import sys\n",
    "!{sys.executable} -m pip install textblob\n",
    "import textblob"
   ]
  },
  {
   "cell_type": "code",
   "execution_count": null,
   "id": "58acff51",
   "metadata": {},
   "outputs": [],
   "source": []
  },
  {
   "cell_type": "code",
   "execution_count": 2,
   "id": "df6fd988",
   "metadata": {},
   "outputs": [
    {
     "data": {
      "text/html": [
       "<div>\n",
       "<style scoped>\n",
       "    .dataframe tbody tr th:only-of-type {\n",
       "        vertical-align: middle;\n",
       "    }\n",
       "\n",
       "    .dataframe tbody tr th {\n",
       "        vertical-align: top;\n",
       "    }\n",
       "\n",
       "    .dataframe thead th {\n",
       "        text-align: right;\n",
       "    }\n",
       "</style>\n",
       "<table border=\"1\" class=\"dataframe\">\n",
       "  <thead>\n",
       "    <tr style=\"text-align: right;\">\n",
       "      <th></th>\n",
       "      <th>textID</th>\n",
       "      <th>text</th>\n",
       "      <th>selected_text</th>\n",
       "      <th>sentiment</th>\n",
       "    </tr>\n",
       "  </thead>\n",
       "  <tbody>\n",
       "    <tr>\n",
       "      <th>0</th>\n",
       "      <td>cb774db0d1</td>\n",
       "      <td>I`d have responded, if I were going</td>\n",
       "      <td>I`d have responded, if I were going</td>\n",
       "      <td>neutral</td>\n",
       "    </tr>\n",
       "    <tr>\n",
       "      <th>1</th>\n",
       "      <td>549e992a42</td>\n",
       "      <td>Sooo SAD I will miss you here in San Diego!!!</td>\n",
       "      <td>Sooo SAD</td>\n",
       "      <td>negative</td>\n",
       "    </tr>\n",
       "    <tr>\n",
       "      <th>2</th>\n",
       "      <td>088c60f138</td>\n",
       "      <td>my boss is bullying me...</td>\n",
       "      <td>bullying me</td>\n",
       "      <td>negative</td>\n",
       "    </tr>\n",
       "    <tr>\n",
       "      <th>3</th>\n",
       "      <td>9642c003ef</td>\n",
       "      <td>what interview! leave me alone</td>\n",
       "      <td>leave me alone</td>\n",
       "      <td>negative</td>\n",
       "    </tr>\n",
       "    <tr>\n",
       "      <th>4</th>\n",
       "      <td>358bd9e861</td>\n",
       "      <td>Sons of ****, why couldn`t they put them on t...</td>\n",
       "      <td>Sons of ****,</td>\n",
       "      <td>negative</td>\n",
       "    </tr>\n",
       "  </tbody>\n",
       "</table>\n",
       "</div>"
      ],
      "text/plain": [
       "       textID                                               text  \\\n",
       "0  cb774db0d1                I`d have responded, if I were going   \n",
       "1  549e992a42      Sooo SAD I will miss you here in San Diego!!!   \n",
       "2  088c60f138                          my boss is bullying me...   \n",
       "3  9642c003ef                     what interview! leave me alone   \n",
       "4  358bd9e861   Sons of ****, why couldn`t they put them on t...   \n",
       "\n",
       "                         selected_text sentiment  \n",
       "0  I`d have responded, if I were going   neutral  \n",
       "1                             Sooo SAD  negative  \n",
       "2                          bullying me  negative  \n",
       "3                       leave me alone  negative  \n",
       "4                        Sons of ****,  negative  "
      ]
     },
     "execution_count": 2,
     "metadata": {},
     "output_type": "execute_result"
    }
   ],
   "source": [
    "#https://www.kaggle.com/datasets/yasserh/twitter-tweets-sentiment-dataset\n",
    "tweets = pd.read_csv(\"Tweets.csv\")\n",
    "tweets.head()"
   ]
  },
  {
   "cell_type": "code",
   "execution_count": 3,
   "id": "afb92735",
   "metadata": {},
   "outputs": [
    {
     "name": "stdout",
     "output_type": "stream",
     "text": [
      "(31, 9)\n"
     ]
    }
   ],
   "source": [
    "#https://www.ncei.noaa.gov/cdo-web/datasets\n",
    "climate = pd.read_csv(\"GHCND_sample_csv.csv\")\n",
    "print(climate.shape)"
   ]
  },
  {
   "cell_type": "code",
   "execution_count": null,
   "id": "3e80aaf7",
   "metadata": {},
   "outputs": [],
   "source": []
  },
  {
   "cell_type": "code",
   "execution_count": 4,
   "id": "88e8027f",
   "metadata": {},
   "outputs": [
    {
     "data": {
      "text/html": [
       "<div>\n",
       "<style scoped>\n",
       "    .dataframe tbody tr th:only-of-type {\n",
       "        vertical-align: middle;\n",
       "    }\n",
       "\n",
       "    .dataframe tbody tr th {\n",
       "        vertical-align: top;\n",
       "    }\n",
       "\n",
       "    .dataframe thead th {\n",
       "        text-align: right;\n",
       "    }\n",
       "</style>\n",
       "<table border=\"1\" class=\"dataframe\">\n",
       "  <thead>\n",
       "    <tr style=\"text-align: right;\">\n",
       "      <th></th>\n",
       "      <th>UserID</th>\n",
       "      <th>UserLocation</th>\n",
       "    </tr>\n",
       "  </thead>\n",
       "  <tbody>\n",
       "    <tr>\n",
       "      <th>0</th>\n",
       "      <td>14</td>\n",
       "      <td>San Francisco</td>\n",
       "    </tr>\n",
       "    <tr>\n",
       "      <th>1</th>\n",
       "      <td>15</td>\n",
       "      <td>San Francisco</td>\n",
       "    </tr>\n",
       "    <tr>\n",
       "      <th>2</th>\n",
       "      <td>18</td>\n",
       "      <td>San Francisco, CA</td>\n",
       "    </tr>\n",
       "    <tr>\n",
       "      <th>3</th>\n",
       "      <td>19922973</td>\n",
       "      <td>Chicago, IL</td>\n",
       "    </tr>\n",
       "    <tr>\n",
       "      <th>4</th>\n",
       "      <td>63963170</td>\n",
       "      <td>New York</td>\n",
       "    </tr>\n",
       "  </tbody>\n",
       "</table>\n",
       "</div>"
      ],
      "text/plain": [
       "     UserID       UserLocation\n",
       "0        14      San Francisco\n",
       "1        15      San Francisco\n",
       "2        18  San Francisco, CA\n",
       "3  19922973        Chicago, IL\n",
       "4  63963170           New York"
      ]
     },
     "execution_count": 4,
     "metadata": {},
     "output_type": "execute_result"
    }
   ],
   "source": [
    "#https://ia600501.us.archive.org/view_archive.php?archive=/32/items/twitter_cikm_2010/twitter_cikm_2010.zip&file=training_set_users.txt\n",
    "training_users = pd.read_csv(\"training_set_users.txt\", sep=\"\\t\", header=None, names=[\"UserID\",\"UserLocation\"])\n",
    "training_users.head()\n"
   ]
  },
  {
   "cell_type": "code",
   "execution_count": 5,
   "id": "1f442d19",
   "metadata": {},
   "outputs": [],
   "source": [
    "#https://ia600501.us.archive.org/view_archive.php?archive=/32/items/twitter_cikm_2010/twitter_cikm_2010.zip&file=training_set_tweets.txt\n",
    "training_tweets = pd.read_csv(\"training_set_tweets.txt\", sep=\"\\t\", header=None, names=[\"UserID\",\"TweetID\",\"Tweet\",\"CreatedAt\"])\n",
    "training_tweets = training_tweets[training_tweets[\"UserID\"].str.isnumeric() == True]\n",
    "training_tweets[\"UserID\"] = training_tweets[\"UserID\"].astype(\"int\")"
   ]
  },
  {
   "cell_type": "code",
   "execution_count": 6,
   "id": "5f69ede6",
   "metadata": {
    "scrolled": false
   },
   "outputs": [
    {
     "name": "stdout",
     "output_type": "stream",
     "text": [
      "                            NO2 Mean  SO2 Mean   CO Mean\n",
      "City                                                    \n",
      "Arden-Arcade                9.122132  2.500177  0.431507\n",
      "Baton Rouge                12.911402  1.113256  0.232938\n",
      "Beltsville                 10.599064  0.413356  0.251720\n",
      "Bethel Island               5.032235  1.471693  0.394839\n",
      "Birmingham                  9.524873  0.835118  0.209514\n",
      "Boston                     15.829273  0.676859  0.272121\n",
      "Calexico                   15.283268  0.799027  0.512509\n",
      "Capitan                     0.362757  0.240622  0.120765\n",
      "Charlotte                   7.901285  0.174032  0.243189\n",
      "Cincinnati                  9.448397  0.992820  0.260071\n",
      "Cleveland                   9.913122  2.025474  0.287719\n",
      "Concord                     6.750253  0.625520  0.308608\n",
      "Dallas                     11.834022  0.194095  0.264207\n",
      "Davenport                   6.215778  0.257715  0.209559\n",
      "Deer Park                   7.371138  0.271792  0.179672\n",
      "Dentsville (Dents)          9.312171  0.231289  0.158057\n",
      "Denver                     26.078713  1.035047  0.449333\n",
      "Des Moines                  5.556749  0.059512  0.209872\n",
      "East Highland Park         10.320663  0.550617  0.291826\n",
      "East Providence             7.740605  0.365890  0.234159\n",
      "East Saint Louis            9.323015  1.057718  0.353440\n",
      "El Paso                    16.297586  0.550719  0.372711\n",
      "Erie                        5.870183  0.624739  0.127532\n",
      "Essex                      14.085269  1.157054  0.302210\n",
      "Eureka                      3.145455  0.573528  0.307576\n",
      "Fresno                     15.338750  0.069246  0.477026\n",
      "Grantsville                 2.644926  0.602202  0.188449\n",
      "Houston                    14.613584  0.033354  0.236897\n",
      "Indianapolis (Remainder)   13.857478  0.392973  0.244739\n",
      "Johnstown                   9.530454  1.897322  0.128102\n",
      "Kansas City                11.585219  1.084590  0.252643\n",
      "Lompoc                      5.573653  0.260965  0.090597\n",
      "New York                   17.847473  1.051427  0.293644\n",
      "North Little Rock           8.661113  0.663800  0.322073\n",
      "Northbrook                 12.011637  0.761021  0.240610\n",
      "Not in a city               6.516090  0.371085  0.203096\n",
      "Oakland                    14.343573  0.933727  0.532144\n",
      "Phoenix                    20.323913  0.702634  0.641625\n",
      "Portland                    6.556909  0.332638  0.299663\n",
      "Raleigh                     6.790661  0.333645  0.253641\n",
      "Reno                       17.420815  0.379370  0.323221\n",
      "Salt Lake City             31.515873  0.661726  0.515134\n",
      "San Jose                   12.982396  0.244674  0.363833\n",
      "San Pablo                   9.175677  0.718355  0.431087\n",
      "Seattle                    14.730538  0.202716  0.274327\n",
      "St. Louis                  12.485847  1.115376  0.323152\n",
      "Tucson                     11.893561  0.129666  0.317812\n",
      "Tulsa                       8.125385  1.489845  0.277548\n",
      "Vallejo                     8.404950  0.611533  0.422570\n",
      "Vandenberg Air Force Base   0.539245  0.040960  0.257336\n",
      "Victorville                11.993263  0.248559  0.407805\n",
      "Waco                        3.984788  0.483073  0.115520\n",
      "Washington                 12.460650  0.971956  0.257102\n",
      "Welby                      20.495805  0.729297  0.479651\n",
      "Wilmington                 13.771055  0.828227  0.282874\n",
      "Winter Park                 5.492869  0.396408  0.573668\n",
      "York                       12.795990  1.674955  0.110495\n"
     ]
    }
   ],
   "source": [
    "t_user_tweets = training_users.merge(training_tweets, on=\"UserID\", how=\"left\")\n",
    "pol = pd.read_csv(\"uspollution_pollution_us_2000_2016.csv\", usecols = [\"City\", \"Date Local\", \"NO2 Mean\", \"SO2 Mean\", \"CO Mean\"])\n",
    "pol = pol[pol[\"Date Local\"].str.contains(\"2016\")]\n",
    "t_user_tweets.head()\n",
    "pol = pol.groupby(\"City\")[[\"NO2 Mean\", \"SO2 Mean\", \"CO Mean\"]].mean()\n",
    "print(pol)"
   ]
  },
  {
   "cell_type": "code",
   "execution_count": 7,
   "id": "2d6cc81d",
   "metadata": {},
   "outputs": [
    {
     "name": "stdout",
     "output_type": "stream",
     "text": [
      "(116890, 8)\n"
     ]
    },
    {
     "data": {
      "text/html": [
       "<div>\n",
       "<style scoped>\n",
       "    .dataframe tbody tr th:only-of-type {\n",
       "        vertical-align: middle;\n",
       "    }\n",
       "\n",
       "    .dataframe tbody tr th {\n",
       "        vertical-align: top;\n",
       "    }\n",
       "\n",
       "    .dataframe thead th {\n",
       "        text-align: right;\n",
       "    }\n",
       "</style>\n",
       "<table border=\"1\" class=\"dataframe\">\n",
       "  <thead>\n",
       "    <tr style=\"text-align: right;\">\n",
       "      <th></th>\n",
       "      <th>UserID</th>\n",
       "      <th>UserLocation</th>\n",
       "      <th>TweetID</th>\n",
       "      <th>Tweet</th>\n",
       "      <th>CreatedAt</th>\n",
       "      <th>Sentiment</th>\n",
       "      <th>City</th>\n",
       "      <th>State</th>\n",
       "      <th>NO2 Mean</th>\n",
       "      <th>SO2 Mean</th>\n",
       "      <th>CO Mean</th>\n",
       "    </tr>\n",
       "  </thead>\n",
       "  <tbody>\n",
       "    <tr>\n",
       "      <th>0</th>\n",
       "      <td>14</td>\n",
       "      <td>San Francisco</td>\n",
       "      <td>1567978127</td>\n",
       "      <td>The flock of bees splatter the windshield like...</td>\n",
       "      <td>2009-04-20 14:09:20</td>\n",
       "      <td>0.000000</td>\n",
       "      <td>San Francisco</td>\n",
       "      <td>NaN</td>\n",
       "      <td>NaN</td>\n",
       "      <td>NaN</td>\n",
       "      <td>NaN</td>\n",
       "    </tr>\n",
       "    <tr>\n",
       "      <th>1</th>\n",
       "      <td>14</td>\n",
       "      <td>San Francisco</td>\n",
       "      <td>1551907112</td>\n",
       "      <td>Watching him on TV, I wondered how I became so...</td>\n",
       "      <td>2009-04-18 12:16:56</td>\n",
       "      <td>0.000000</td>\n",
       "      <td>San Francisco</td>\n",
       "      <td>NaN</td>\n",
       "      <td>NaN</td>\n",
       "      <td>NaN</td>\n",
       "      <td>NaN</td>\n",
       "    </tr>\n",
       "    <tr>\n",
       "      <th>2</th>\n",
       "      <td>14</td>\n",
       "      <td>San Francisco</td>\n",
       "      <td>1539281043</td>\n",
       "      <td>My inner dirthead child limps a  smile at the ...</td>\n",
       "      <td>2009-04-16 22:30:57</td>\n",
       "      <td>0.008333</td>\n",
       "      <td>San Francisco</td>\n",
       "      <td>NaN</td>\n",
       "      <td>NaN</td>\n",
       "      <td>NaN</td>\n",
       "      <td>NaN</td>\n",
       "    </tr>\n",
       "    <tr>\n",
       "      <th>3</th>\n",
       "      <td>14</td>\n",
       "      <td>San Francisco</td>\n",
       "      <td>1513711531</td>\n",
       "      <td>Riding this blue steel dog Down thru the atmos...</td>\n",
       "      <td>2009-04-13 21:14:58</td>\n",
       "      <td>0.073611</td>\n",
       "      <td>San Francisco</td>\n",
       "      <td>NaN</td>\n",
       "      <td>NaN</td>\n",
       "      <td>NaN</td>\n",
       "      <td>NaN</td>\n",
       "    </tr>\n",
       "    <tr>\n",
       "      <th>4</th>\n",
       "      <td>14</td>\n",
       "      <td>San Francisco</td>\n",
       "      <td>1455281562</td>\n",
       "      <td>Driving this blue steel dog, pregnant and lumb...</td>\n",
       "      <td>2009-04-04 22:48:26</td>\n",
       "      <td>0.166667</td>\n",
       "      <td>San Francisco</td>\n",
       "      <td>NaN</td>\n",
       "      <td>NaN</td>\n",
       "      <td>NaN</td>\n",
       "      <td>NaN</td>\n",
       "    </tr>\n",
       "  </tbody>\n",
       "</table>\n",
       "</div>"
      ],
      "text/plain": [
       "   UserID   UserLocation     TweetID  \\\n",
       "0      14  San Francisco  1567978127   \n",
       "1      14  San Francisco  1551907112   \n",
       "2      14  San Francisco  1539281043   \n",
       "3      14  San Francisco  1513711531   \n",
       "4      14  San Francisco  1455281562   \n",
       "\n",
       "                                               Tweet            CreatedAt  \\\n",
       "0  The flock of bees splatter the windshield like...  2009-04-20 14:09:20   \n",
       "1  Watching him on TV, I wondered how I became so...  2009-04-18 12:16:56   \n",
       "2  My inner dirthead child limps a  smile at the ...  2009-04-16 22:30:57   \n",
       "3  Riding this blue steel dog Down thru the atmos...  2009-04-13 21:14:58   \n",
       "4  Driving this blue steel dog, pregnant and lumb...  2009-04-04 22:48:26   \n",
       "\n",
       "   Sentiment           City State  NO2 Mean  SO2 Mean  CO Mean  \n",
       "0   0.000000  San Francisco   NaN       NaN       NaN      NaN  \n",
       "1   0.000000  San Francisco   NaN       NaN       NaN      NaN  \n",
       "2   0.008333  San Francisco   NaN       NaN       NaN      NaN  \n",
       "3   0.073611  San Francisco   NaN       NaN       NaN      NaN  \n",
       "4   0.166667  San Francisco   NaN       NaN       NaN      NaN  "
      ]
     },
     "execution_count": 7,
     "metadata": {},
     "output_type": "execute_result"
    }
   ],
   "source": [
    "\n",
    "t_user_tweets[\"Sentiment\"] = t_user_tweets[\"Tweet\"].astype(str).apply(lambda tweet: textblob.TextBlob(tweet).sentiment.polarity)\n",
    "city = r'^([^,]*)'\n",
    "state = r',\\s*([^,]*)'\n",
    "t_user_tweets[\"City\"] = t_user_tweets[\"UserLocation\"].str.extract(city)\n",
    "t_user_tweets[\"State\"] = t_user_tweets[\"UserLocation\"].str.extract(state)\n",
    "print(t_user_tweets.shape)\n",
    "t_user_tweets.dropna(subset=['Tweet'], inplace=True)\n",
    "tweets = pd.merge(t_user_tweets, pol, on = \"City\", how = \"left\")\n",
    "tweets.head()"
   ]
  },
  {
   "cell_type": "code",
   "execution_count": 8,
   "id": "5ded33fa",
   "metadata": {
    "scrolled": true
   },
   "outputs": [],
   "source": [
    "plot = tweets.groupby(\"City\")[[\"Sentiment\", \"NO2 Mean\"]].mean().sort_values(\"NO2 Mean\")"
   ]
  },
  {
   "cell_type": "code",
   "execution_count": 9,
   "id": "1eecb515",
   "metadata": {},
   "outputs": [
    {
     "data": {
      "text/plain": [
       "<seaborn.axisgrid.FacetGrid at 0x106677070>"
      ]
     },
     "execution_count": 9,
     "metadata": {},
     "output_type": "execute_result"
    },
    {
     "data": {
      "image/png": "[encoded data removed]",
      "text/plain": [
       "<Figure size 500x500 with 1 Axes>"
      ]
     },
     "metadata": {},
     "output_type": "display_data"
    }
   ],
   "source": [
    "sns.relplot(x = \"NO2 Mean\", y = \"Sentiment\", data = plot, kind = \"line\")"
   ]
  },
  {
   "cell_type": "code",
   "execution_count": null,
   "id": "a26dfc30",
   "metadata": {},
   "outputs": [],
   "source": []
  }
 ],
 "metadata": {
  "kernelspec": {
   "display_name": "Python 3 (ipykernel)",
   "language": "python",
   "name": "python3"
  },
  "language_info": {
   "codemirror_mode": {
    "name": "ipython",
    "version": 3
   },
   "file_extension": ".py",
   "mimetype": "text/x-python",
   "name": "python",
   "nbconvert_exporter": "python",
   "pygments_lexer": "ipython3",
   "version": "3.9.13"
  }
 },
 "nbformat": 4,
 "nbformat_minor": 5
}
